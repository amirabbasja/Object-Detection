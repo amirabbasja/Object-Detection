{
 "cells": [
  {
   "cell_type": "markdown",
   "metadata": {},
   "source": [
    "Import the necessary libraries"
   ]
  },
  {
   "cell_type": "code",
   "execution_count": 4,
   "metadata": {},
   "outputs": [],
   "source": [
    "\"\"\"\n",
    "This file downloads the train, test and validation datasets used for training the CNN.\n",
    "We have used fiftyone's zoo library to download from the openImages v7.\n",
    "\n",
    "The entire Open Images V7  database size is 561 GB, It contains ~9 million images that \n",
    "around 2 million of them are annotated (Classification, Detection, Segmentation, etc.).\n",
    "The zoo library supports partial download of the entire dataset which helps a lot with \n",
    "our purpose.\n",
    "\n",
    "* All images have been rescaled so that their largest dimension is at most 1024 pixels.\n",
    "\"\"\"\n",
    "import fiftyone as fo\n",
    "import os\n",
    "import fiftyone.zoo as foz\n",
    "from pprint import pprint\n",
    "import matplotlib.pyplot as plt\n",
    "import matplotlib.image as mpimg # Necessary for reading an image\n",
    "import matplotlib.patches as patches # Necessary for drawing bounding boxes\n",
    "import json\n",
    "import dataHandler as handler"
   ]
  },
  {
   "cell_type": "markdown",
   "metadata": {},
   "source": [
    "Download the datasets using Fiftyone library. "
   ]
  },
  {
   "cell_type": "markdown",
   "metadata": {},
   "source": [
    "We download two datasets, one for training and the other for test"
   ]
  },
  {
   "cell_type": "code",
   "execution_count": 2,
   "metadata": {},
   "outputs": [
    {
     "name": "stdout",
     "output_type": "stream",
     "text": [
      "Dataset already loaded.\n"
     ]
    }
   ],
   "source": [
    "# Download the necessary data and dataset images for training. We have chosen \"open-images-v7-object-detection-DS\"\n",
    "# as the name.\n",
    "dsName = \"open-images-v7-object-detection-DS-train\"\n",
    "dsClasses = [\"Person\"]\n",
    "dsSplit = \"train\"\n",
    "dsLblTypes = [\"detections\", \"classifications\"]\n",
    "nSamples = 1000\n",
    "\n",
    "if not fo.dataset_exists(dsName):\n",
    "    dataset = foz.load_zoo_dataset(\n",
    "        \"open-images-v7\",\n",
    "        split = dsSplit,\n",
    "        label_types = dsLblTypes,\n",
    "        classes = dsClasses,\n",
    "        max_samples = nSamples,\n",
    "        seed = 1,\n",
    "        shuffle = True,\n",
    "        dataset_name = dsName,\n",
    "    )\n",
    "else:\n",
    "    datasetTrain = fo.load_dataset(dsName)\n",
    "    print(\"Dataset already loaded.\")"
   ]
  },
  {
   "cell_type": "code",
   "execution_count": 3,
   "metadata": {},
   "outputs": [
    {
     "name": "stdout",
     "output_type": "stream",
     "text": [
      "Dataset already loaded. \n"
     ]
    }
   ],
   "source": [
    "# Download the necessary data and dataset images for testing. We have chosen \"open-images-v7-object-detection-DS\"\n",
    "# as the name.\n",
    "dsName = \"open-images-v7-object-detection-DS-test\"\n",
    "dsClasses = [\"Person\"]\n",
    "dsSplit = \"test\"\n",
    "dsLblTypes = [\"detections\", \"classifications\"]\n",
    "nSamples = 1000\n",
    "\n",
    "if not fo.dataset_exists(dsName):\n",
    "    dataset = foz.load_zoo_dataset(\n",
    "        \"open-images-v7\",\n",
    "        split = dsSplit,\n",
    "        label_types = dsLblTypes,\n",
    "        classes = dsClasses,\n",
    "        max_samples = nSamples,\n",
    "        seed = 2,\n",
    "        shuffle = True,\n",
    "        dataset_name = dsName,\n",
    "    )\n",
    "else:\n",
    "    datasetTest = fo.load_dataset(dsName)\n",
    "    print(\"Dataset already loaded. \")"
   ]
  },
  {
   "cell_type": "code",
   "execution_count": null,
   "metadata": {},
   "outputs": [],
   "source": [
    "# To be sure of the downloaded datasets, you can run the code below to see the downloaded datasets\n",
    "# List the current datasets\n",
    "fo.list_datasets()"
   ]
  },
  {
   "cell_type": "markdown",
   "metadata": {},
   "source": [
    "Exporting the datasets to two directories. Each one containing two sub-directories, namely, images and labels"
   ]
  },
  {
   "cell_type": "code",
   "execution_count": 11,
   "metadata": {},
   "outputs": [
    {
     "name": "stdout",
     "output_type": "stream",
     "text": [
      "Directory './data/images/train' already exists; export will be merged with existing files\n",
      "   2% |---------------|   22/1000 [237.0ms elapsed, 10.5s remaining, 92.8 samples/s] "
     ]
    },
    {
     "name": "stderr",
     "output_type": "stream",
     "text": [
      "/root/miniconda3/envs/ml_env/lib/python3.11/site-packages/fiftyone/utils/data/exporters.py:3919: UserWarning: Ignoring detection with label 'Motorcycle' not in provided classes\n",
      "  warnings.warn(msg)\n",
      "/root/miniconda3/envs/ml_env/lib/python3.11/site-packages/fiftyone/utils/data/exporters.py:3919: UserWarning: Ignoring detection with label 'Tree' not in provided classes\n",
      "  warnings.warn(msg)\n",
      "/root/miniconda3/envs/ml_env/lib/python3.11/site-packages/fiftyone/utils/data/exporters.py:3919: UserWarning: Ignoring detection with label 'Human body' not in provided classes\n",
      "  warnings.warn(msg)\n",
      "/root/miniconda3/envs/ml_env/lib/python3.11/site-packages/fiftyone/utils/data/exporters.py:3919: UserWarning: Ignoring detection with label 'Microphone' not in provided classes\n",
      "  warnings.warn(msg)\n",
      "/root/miniconda3/envs/ml_env/lib/python3.11/site-packages/fiftyone/utils/data/exporters.py:3919: UserWarning: Ignoring detection with label 'Land vehicle' not in provided classes\n",
      "  warnings.warn(msg)\n",
      "/root/miniconda3/envs/ml_env/lib/python3.11/site-packages/fiftyone/utils/data/exporters.py:3919: UserWarning: Ignoring detection with label 'Horse' not in provided classes\n",
      "  warnings.warn(msg)\n",
      "/root/miniconda3/envs/ml_env/lib/python3.11/site-packages/fiftyone/utils/data/exporters.py:3919: UserWarning: Ignoring detection with label 'Clothing' not in provided classes\n",
      "  warnings.warn(msg)\n",
      "/root/miniconda3/envs/ml_env/lib/python3.11/site-packages/fiftyone/utils/data/exporters.py:3919: UserWarning: Ignoring detection with label 'Human face' not in provided classes\n",
      "  warnings.warn(msg)\n",
      "/root/miniconda3/envs/ml_env/lib/python3.11/site-packages/fiftyone/utils/data/exporters.py:3919: UserWarning: Ignoring detection with label 'Human hand' not in provided classes\n",
      "  warnings.warn(msg)\n",
      "/root/miniconda3/envs/ml_env/lib/python3.11/site-packages/fiftyone/utils/data/exporters.py:3919: UserWarning: Ignoring detection with label 'Human leg' not in provided classes\n",
      "  warnings.warn(msg)\n",
      "/root/miniconda3/envs/ml_env/lib/python3.11/site-packages/fiftyone/utils/data/exporters.py:3919: UserWarning: Ignoring detection with label 'Human hair' not in provided classes\n",
      "  warnings.warn(msg)\n",
      "/root/miniconda3/envs/ml_env/lib/python3.11/site-packages/fiftyone/utils/data/exporters.py:3919: UserWarning: Ignoring detection with label 'Mammal' not in provided classes\n",
      "  warnings.warn(msg)\n",
      "/root/miniconda3/envs/ml_env/lib/python3.11/site-packages/fiftyone/utils/data/exporters.py:3919: UserWarning: Ignoring detection with label 'Human arm' not in provided classes\n",
      "  warnings.warn(msg)\n",
      "/root/miniconda3/envs/ml_env/lib/python3.11/site-packages/fiftyone/utils/data/exporters.py:3919: UserWarning: Ignoring detection with label 'Window' not in provided classes\n",
      "  warnings.warn(msg)\n",
      "/root/miniconda3/envs/ml_env/lib/python3.11/site-packages/fiftyone/utils/data/exporters.py:3919: UserWarning: Ignoring detection with label 'Vehicle' not in provided classes\n",
      "  warnings.warn(msg)\n",
      "/root/miniconda3/envs/ml_env/lib/python3.11/site-packages/fiftyone/utils/data/exporters.py:3919: UserWarning: Ignoring detection with label 'Building' not in provided classes\n",
      "  warnings.warn(msg)\n",
      "/root/miniconda3/envs/ml_env/lib/python3.11/site-packages/fiftyone/utils/data/exporters.py:3919: UserWarning: Ignoring detection with label 'Footwear' not in provided classes\n",
      "  warnings.warn(msg)\n",
      "/root/miniconda3/envs/ml_env/lib/python3.11/site-packages/fiftyone/utils/data/exporters.py:3919: UserWarning: Ignoring detection with label 'Car' not in provided classes\n",
      "  warnings.warn(msg)\n",
      "/root/miniconda3/envs/ml_env/lib/python3.11/site-packages/fiftyone/utils/data/exporters.py:3919: UserWarning: Ignoring detection with label 'Goat' not in provided classes\n",
      "  warnings.warn(msg)\n",
      "/root/miniconda3/envs/ml_env/lib/python3.11/site-packages/fiftyone/utils/data/exporters.py:3919: UserWarning: Ignoring detection with label 'Snowboard' not in provided classes\n",
      "  warnings.warn(msg)\n",
      "/root/miniconda3/envs/ml_env/lib/python3.11/site-packages/fiftyone/utils/data/exporters.py:3919: UserWarning: Ignoring detection with label 'Umbrella' not in provided classes\n",
      "  warnings.warn(msg)\n",
      "/root/miniconda3/envs/ml_env/lib/python3.11/site-packages/fiftyone/utils/data/exporters.py:3919: UserWarning: Ignoring detection with label 'Dog' not in provided classes\n",
      "  warnings.warn(msg)\n",
      "/root/miniconda3/envs/ml_env/lib/python3.11/site-packages/fiftyone/utils/data/exporters.py:3919: UserWarning: Ignoring detection with label 'Hiking equipment' not in provided classes\n",
      "  warnings.warn(msg)\n",
      "/root/miniconda3/envs/ml_env/lib/python3.11/site-packages/fiftyone/utils/data/exporters.py:3919: UserWarning: Ignoring detection with label 'Fast food' not in provided classes\n",
      "  warnings.warn(msg)\n",
      "/root/miniconda3/envs/ml_env/lib/python3.11/site-packages/fiftyone/utils/data/exporters.py:3919: UserWarning: Ignoring detection with label 'Balloon' not in provided classes\n",
      "  warnings.warn(msg)\n",
      "/root/miniconda3/envs/ml_env/lib/python3.11/site-packages/fiftyone/utils/data/exporters.py:3919: UserWarning: Ignoring detection with label 'Laptop' not in provided classes\n",
      "  warnings.warn(msg)\n"
     ]
    },
    {
     "name": "stdout",
     "output_type": "stream",
     "text": [
      "   5% ||--------------|   47/1000 [444.6ms elapsed, 9.0s remaining, 105.7 samples/s] "
     ]
    },
    {
     "name": "stderr",
     "output_type": "stream",
     "text": [
      "/root/miniconda3/envs/ml_env/lib/python3.11/site-packages/fiftyone/utils/data/exporters.py:3919: UserWarning: Ignoring detection with label 'Sports equipment' not in provided classes\n",
      "  warnings.warn(msg)\n",
      "/root/miniconda3/envs/ml_env/lib/python3.11/site-packages/fiftyone/utils/data/exporters.py:3919: UserWarning: Ignoring detection with label 'Wheel' not in provided classes\n",
      "  warnings.warn(msg)\n",
      "/root/miniconda3/envs/ml_env/lib/python3.11/site-packages/fiftyone/utils/data/exporters.py:3919: UserWarning: Ignoring detection with label 'Drink' not in provided classes\n",
      "  warnings.warn(msg)\n",
      "/root/miniconda3/envs/ml_env/lib/python3.11/site-packages/fiftyone/utils/data/exporters.py:3919: UserWarning: Ignoring detection with label 'Desk' not in provided classes\n",
      "  warnings.warn(msg)\n",
      "/root/miniconda3/envs/ml_env/lib/python3.11/site-packages/fiftyone/utils/data/exporters.py:3919: UserWarning: Ignoring detection with label 'Table' not in provided classes\n",
      "  warnings.warn(msg)\n",
      "/root/miniconda3/envs/ml_env/lib/python3.11/site-packages/fiftyone/utils/data/exporters.py:3919: UserWarning: Ignoring detection with label 'Toy' not in provided classes\n",
      "  warnings.warn(msg)\n",
      "/root/miniconda3/envs/ml_env/lib/python3.11/site-packages/fiftyone/utils/data/exporters.py:3919: UserWarning: Ignoring detection with label 'Human head' not in provided classes\n",
      "  warnings.warn(msg)\n",
      "/root/miniconda3/envs/ml_env/lib/python3.11/site-packages/fiftyone/utils/data/exporters.py:3919: UserWarning: Ignoring detection with label 'Human mouth' not in provided classes\n",
      "  warnings.warn(msg)\n",
      "/root/miniconda3/envs/ml_env/lib/python3.11/site-packages/fiftyone/utils/data/exporters.py:3919: UserWarning: Ignoring detection with label 'Hat' not in provided classes\n",
      "  warnings.warn(msg)\n",
      "/root/miniconda3/envs/ml_env/lib/python3.11/site-packages/fiftyone/utils/data/exporters.py:3919: UserWarning: Ignoring detection with label 'Chainsaw' not in provided classes\n",
      "  warnings.warn(msg)\n",
      "/root/miniconda3/envs/ml_env/lib/python3.11/site-packages/fiftyone/utils/data/exporters.py:3919: UserWarning: Ignoring detection with label 'Tank' not in provided classes\n",
      "  warnings.warn(msg)\n",
      "/root/miniconda3/envs/ml_env/lib/python3.11/site-packages/fiftyone/utils/data/exporters.py:3919: UserWarning: Ignoring detection with label 'Bicycle' not in provided classes\n",
      "  warnings.warn(msg)\n",
      "/root/miniconda3/envs/ml_env/lib/python3.11/site-packages/fiftyone/utils/data/exporters.py:3919: UserWarning: Ignoring detection with label 'Bicycle wheel' not in provided classes\n",
      "  warnings.warn(msg)\n"
     ]
    },
    {
     "name": "stdout",
     "output_type": "stream",
     "text": [
      "   7% |█--------------|   72/1000 [659.3ms elapsed, 8.5s remaining, 109.2 samples/s] "
     ]
    },
    {
     "name": "stderr",
     "output_type": "stream",
     "text": [
      "/root/miniconda3/envs/ml_env/lib/python3.11/site-packages/fiftyone/utils/data/exporters.py:3919: UserWarning: Ignoring detection with label 'Helicopter' not in provided classes\n",
      "  warnings.warn(msg)\n",
      "/root/miniconda3/envs/ml_env/lib/python3.11/site-packages/fiftyone/utils/data/exporters.py:3919: UserWarning: Ignoring detection with label 'Sculpture' not in provided classes\n",
      "  warnings.warn(msg)\n",
      "/root/miniconda3/envs/ml_env/lib/python3.11/site-packages/fiftyone/utils/data/exporters.py:3919: UserWarning: Ignoring detection with label 'Guitar' not in provided classes\n",
      "  warnings.warn(msg)\n",
      "/root/miniconda3/envs/ml_env/lib/python3.11/site-packages/fiftyone/utils/data/exporters.py:3919: UserWarning: Ignoring detection with label 'Furniture' not in provided classes\n",
      "  warnings.warn(msg)\n",
      "/root/miniconda3/envs/ml_env/lib/python3.11/site-packages/fiftyone/utils/data/exporters.py:3919: UserWarning: Ignoring detection with label 'Boat' not in provided classes\n",
      "  warnings.warn(msg)\n",
      "/root/miniconda3/envs/ml_env/lib/python3.11/site-packages/fiftyone/utils/data/exporters.py:3919: UserWarning: Ignoring detection with label 'House' not in provided classes\n",
      "  warnings.warn(msg)\n",
      "/root/miniconda3/envs/ml_env/lib/python3.11/site-packages/fiftyone/utils/data/exporters.py:3919: UserWarning: Ignoring detection with label 'Skyscraper' not in provided classes\n",
      "  warnings.warn(msg)\n",
      "/root/miniconda3/envs/ml_env/lib/python3.11/site-packages/fiftyone/utils/data/exporters.py:3919: UserWarning: Ignoring detection with label 'Coffee table' not in provided classes\n",
      "  warnings.warn(msg)\n",
      "/root/miniconda3/envs/ml_env/lib/python3.11/site-packages/fiftyone/utils/data/exporters.py:3919: UserWarning: Ignoring detection with label 'Glove' not in provided classes\n",
      "  warnings.warn(msg)\n",
      "/root/miniconda3/envs/ml_env/lib/python3.11/site-packages/fiftyone/utils/data/exporters.py:3919: UserWarning: Ignoring detection with label 'Plant' not in provided classes\n",
      "  warnings.warn(msg)\n"
     ]
    },
    {
     "name": "stdout",
     "output_type": "stream",
     "text": [
      "  10% |█|-------------|   96/1000 [871.5ms elapsed, 8.2s remaining, 110.2 samples/s] "
     ]
    },
    {
     "name": "stderr",
     "output_type": "stream",
     "text": [
      "/root/miniconda3/envs/ml_env/lib/python3.11/site-packages/fiftyone/utils/data/exporters.py:3919: UserWarning: Ignoring detection with label 'Cello' not in provided classes\n",
      "  warnings.warn(msg)\n",
      "/root/miniconda3/envs/ml_env/lib/python3.11/site-packages/fiftyone/utils/data/exporters.py:3919: UserWarning: Ignoring detection with label 'Violin' not in provided classes\n",
      "  warnings.warn(msg)\n",
      "/root/miniconda3/envs/ml_env/lib/python3.11/site-packages/fiftyone/utils/data/exporters.py:3919: UserWarning: Ignoring detection with label 'Drum' not in provided classes\n",
      "  warnings.warn(msg)\n",
      "/root/miniconda3/envs/ml_env/lib/python3.11/site-packages/fiftyone/utils/data/exporters.py:3919: UserWarning: Ignoring detection with label 'Musical keyboard' not in provided classes\n",
      "  warnings.warn(msg)\n",
      "/root/miniconda3/envs/ml_env/lib/python3.11/site-packages/fiftyone/utils/data/exporters.py:3919: UserWarning: Ignoring detection with label 'Camera' not in provided classes\n",
      "  warnings.warn(msg)\n",
      "/root/miniconda3/envs/ml_env/lib/python3.11/site-packages/fiftyone/utils/data/exporters.py:3919: UserWarning: Ignoring detection with label 'Jeans' not in provided classes\n",
      "  warnings.warn(msg)\n",
      "/root/miniconda3/envs/ml_env/lib/python3.11/site-packages/fiftyone/utils/data/exporters.py:3919: UserWarning: Ignoring detection with label 'Coat' not in provided classes\n",
      "  warnings.warn(msg)\n",
      "/root/miniconda3/envs/ml_env/lib/python3.11/site-packages/fiftyone/utils/data/exporters.py:3919: UserWarning: Ignoring detection with label 'Jacket' not in provided classes\n",
      "  warnings.warn(msg)\n",
      "/root/miniconda3/envs/ml_env/lib/python3.11/site-packages/fiftyone/utils/data/exporters.py:3919: UserWarning: Ignoring detection with label 'Ball' not in provided classes\n",
      "  warnings.warn(msg)\n",
      "/root/miniconda3/envs/ml_env/lib/python3.11/site-packages/fiftyone/utils/data/exporters.py:3919: UserWarning: Ignoring detection with label 'Bicycle helmet' not in provided classes\n",
      "  warnings.warn(msg)\n",
      "/root/miniconda3/envs/ml_env/lib/python3.11/site-packages/fiftyone/utils/data/exporters.py:3919: UserWarning: Ignoring detection with label 'Surfboard' not in provided classes\n",
      "  warnings.warn(msg)\n",
      "/root/miniconda3/envs/ml_env/lib/python3.11/site-packages/fiftyone/utils/data/exporters.py:3919: UserWarning: Ignoring detection with label 'Mobile phone' not in provided classes\n",
      "  warnings.warn(msg)\n"
     ]
    },
    {
     "name": "stdout",
     "output_type": "stream",
     "text": [
      "  13% |█\\-------------|  132/1000 [1.2s elapsed, 7.9s remaining, 112.6 samples/s]    "
     ]
    },
    {
     "name": "stderr",
     "output_type": "stream",
     "text": [
      "/root/miniconda3/envs/ml_env/lib/python3.11/site-packages/fiftyone/utils/data/exporters.py:3919: UserWarning: Ignoring detection with label 'Television' not in provided classes\n",
      "  warnings.warn(msg)\n",
      "/root/miniconda3/envs/ml_env/lib/python3.11/site-packages/fiftyone/utils/data/exporters.py:3919: UserWarning: Ignoring detection with label 'Football helmet' not in provided classes\n",
      "  warnings.warn(msg)\n",
      "/root/miniconda3/envs/ml_env/lib/python3.11/site-packages/fiftyone/utils/data/exporters.py:3919: UserWarning: Ignoring detection with label 'Flag' not in provided classes\n",
      "  warnings.warn(msg)\n",
      "/root/miniconda3/envs/ml_env/lib/python3.11/site-packages/fiftyone/utils/data/exporters.py:3919: UserWarning: Ignoring detection with label 'Human nose' not in provided classes\n",
      "  warnings.warn(msg)\n",
      "/root/miniconda3/envs/ml_env/lib/python3.11/site-packages/fiftyone/utils/data/exporters.py:3919: UserWarning: Ignoring detection with label 'Tire' not in provided classes\n",
      "  warnings.warn(msg)\n",
      "/root/miniconda3/envs/ml_env/lib/python3.11/site-packages/fiftyone/utils/data/exporters.py:3919: UserWarning: Ignoring detection with label 'Traffic sign' not in provided classes\n",
      "  warnings.warn(msg)\n",
      "/root/miniconda3/envs/ml_env/lib/python3.11/site-packages/fiftyone/utils/data/exporters.py:3919: UserWarning: Ignoring detection with label 'Airplane' not in provided classes\n",
      "  warnings.warn(msg)\n",
      "/root/miniconda3/envs/ml_env/lib/python3.11/site-packages/fiftyone/utils/data/exporters.py:3919: UserWarning: Ignoring detection with label 'Whale' not in provided classes\n",
      "  warnings.warn(msg)\n",
      "/root/miniconda3/envs/ml_env/lib/python3.11/site-packages/fiftyone/utils/data/exporters.py:3919: UserWarning: Ignoring detection with label 'Office building' not in provided classes\n",
      "  warnings.warn(msg)\n",
      "/root/miniconda3/envs/ml_env/lib/python3.11/site-packages/fiftyone/utils/data/exporters.py:3919: UserWarning: Ignoring detection with label 'Dress' not in provided classes\n",
      "  warnings.warn(msg)\n"
     ]
    },
    {
     "name": "stdout",
     "output_type": "stream",
     "text": [
      "  17% |██-------------|  170/1000 [1.5s elapsed, 7.4s remaining, 112.7 samples/s]    "
     ]
    },
    {
     "name": "stderr",
     "output_type": "stream",
     "text": [
      "/root/miniconda3/envs/ml_env/lib/python3.11/site-packages/fiftyone/utils/data/exporters.py:3919: UserWarning: Ignoring detection with label 'Tripod' not in provided classes\n",
      "  warnings.warn(msg)\n",
      "/root/miniconda3/envs/ml_env/lib/python3.11/site-packages/fiftyone/utils/data/exporters.py:3919: UserWarning: Ignoring detection with label 'Computer monitor' not in provided classes\n",
      "  warnings.warn(msg)\n",
      "/root/miniconda3/envs/ml_env/lib/python3.11/site-packages/fiftyone/utils/data/exporters.py:3919: UserWarning: Ignoring detection with label 'Palm tree' not in provided classes\n",
      "  warnings.warn(msg)\n",
      "/root/miniconda3/envs/ml_env/lib/python3.11/site-packages/fiftyone/utils/data/exporters.py:3919: UserWarning: Ignoring detection with label 'Flying disc' not in provided classes\n",
      "  warnings.warn(msg)\n",
      "/root/miniconda3/envs/ml_env/lib/python3.11/site-packages/fiftyone/utils/data/exporters.py:3919: UserWarning: Ignoring detection with label 'Food' not in provided classes\n",
      "  warnings.warn(msg)\n",
      "/root/miniconda3/envs/ml_env/lib/python3.11/site-packages/fiftyone/utils/data/exporters.py:3919: UserWarning: Ignoring detection with label 'Fashion accessory' not in provided classes\n",
      "  warnings.warn(msg)\n",
      "/root/miniconda3/envs/ml_env/lib/python3.11/site-packages/fiftyone/utils/data/exporters.py:3919: UserWarning: Ignoring detection with label 'Picture frame' not in provided classes\n",
      "  warnings.warn(msg)\n"
     ]
    },
    {
     "name": "stdout",
     "output_type": "stream",
     "text": [
      "  19% |██|------------|  193/1000 [1.7s elapsed, 7.3s remaining, 109.7 samples/s]    "
     ]
    },
    {
     "name": "stderr",
     "output_type": "stream",
     "text": [
      "/root/miniconda3/envs/ml_env/lib/python3.11/site-packages/fiftyone/utils/data/exporters.py:3919: UserWarning: Ignoring detection with label 'Headphones' not in provided classes\n",
      "  warnings.warn(msg)\n",
      "/root/miniconda3/envs/ml_env/lib/python3.11/site-packages/fiftyone/utils/data/exporters.py:3919: UserWarning: Ignoring detection with label 'Goggles' not in provided classes\n",
      "  warnings.warn(msg)\n",
      "/root/miniconda3/envs/ml_env/lib/python3.11/site-packages/fiftyone/utils/data/exporters.py:3919: UserWarning: Ignoring detection with label 'Sock' not in provided classes\n",
      "  warnings.warn(msg)\n",
      "/root/miniconda3/envs/ml_env/lib/python3.11/site-packages/fiftyone/utils/data/exporters.py:3919: UserWarning: Ignoring detection with label 'Glasses' not in provided classes\n",
      "  warnings.warn(msg)\n",
      "/root/miniconda3/envs/ml_env/lib/python3.11/site-packages/fiftyone/utils/data/exporters.py:3919: UserWarning: Ignoring detection with label 'Shirt' not in provided classes\n",
      "  warnings.warn(msg)\n",
      "/root/miniconda3/envs/ml_env/lib/python3.11/site-packages/fiftyone/utils/data/exporters.py:3919: UserWarning: Ignoring detection with label 'Suit' not in provided classes\n",
      "  warnings.warn(msg)\n",
      "/root/miniconda3/envs/ml_env/lib/python3.11/site-packages/fiftyone/utils/data/exporters.py:3919: UserWarning: Ignoring detection with label 'Orange' not in provided classes\n",
      "  warnings.warn(msg)\n",
      "/root/miniconda3/envs/ml_env/lib/python3.11/site-packages/fiftyone/utils/data/exporters.py:3919: UserWarning: Ignoring detection with label 'Tomato' not in provided classes\n",
      "  warnings.warn(msg)\n",
      "/root/miniconda3/envs/ml_env/lib/python3.11/site-packages/fiftyone/utils/data/exporters.py:3919: UserWarning: Ignoring detection with label 'Tower' not in provided classes\n",
      "  warnings.warn(msg)\n",
      "/root/miniconda3/envs/ml_env/lib/python3.11/site-packages/fiftyone/utils/data/exporters.py:3919: UserWarning: Ignoring detection with label 'Football' not in provided classes\n",
      "  warnings.warn(msg)\n"
     ]
    },
    {
     "name": "stdout",
     "output_type": "stream",
     "text": [
      "  21% |███------------|  211/1000 [2.0s elapsed, 7.3s remaining, 114.2 samples/s]    "
     ]
    },
    {
     "name": "stderr",
     "output_type": "stream",
     "text": [
      "/root/miniconda3/envs/ml_env/lib/python3.11/site-packages/fiftyone/utils/data/exporters.py:3919: UserWarning: Ignoring detection with label 'Poster' not in provided classes\n",
      "  warnings.warn(msg)\n",
      "/root/miniconda3/envs/ml_env/lib/python3.11/site-packages/fiftyone/utils/data/exporters.py:3919: UserWarning: Ignoring detection with label 'Skull' not in provided classes\n",
      "  warnings.warn(msg)\n",
      "/root/miniconda3/envs/ml_env/lib/python3.11/site-packages/fiftyone/utils/data/exporters.py:3919: UserWarning: Ignoring detection with label 'Bronze sculpture' not in provided classes\n",
      "  warnings.warn(msg)\n"
     ]
    },
    {
     "name": "stdout",
     "output_type": "stream",
     "text": [
      "  24% |███/-----------|  241/1000 [2.3s elapsed, 7.3s remaining, 102.1 samples/s]    "
     ]
    },
    {
     "name": "stderr",
     "output_type": "stream",
     "text": [
      "/root/miniconda3/envs/ml_env/lib/python3.11/site-packages/fiftyone/utils/data/exporters.py:3919: UserWarning: Ignoring detection with label 'Seafood' not in provided classes\n",
      "  warnings.warn(msg)\n",
      "/root/miniconda3/envs/ml_env/lib/python3.11/site-packages/fiftyone/utils/data/exporters.py:3919: UserWarning: Ignoring detection with label 'Carnivore' not in provided classes\n",
      "  warnings.warn(msg)\n",
      "/root/miniconda3/envs/ml_env/lib/python3.11/site-packages/fiftyone/utils/data/exporters.py:3919: UserWarning: Ignoring detection with label 'Ski' not in provided classes\n",
      "  warnings.warn(msg)\n"
     ]
    },
    {
     "name": "stdout",
     "output_type": "stream",
     "text": [
      "                                                                                     \r"
     ]
    },
    {
     "name": "stderr",
     "output_type": "stream",
     "text": [
      "/root/miniconda3/envs/ml_env/lib/python3.11/site-packages/fiftyone/utils/data/exporters.py:3919: UserWarning: Ignoring detection with label 'Plastic bag' not in provided classes\n",
      "  warnings.warn(msg)\n",
      "/root/miniconda3/envs/ml_env/lib/python3.11/site-packages/fiftyone/utils/data/exporters.py:3919: UserWarning: Ignoring detection with label 'Human eye' not in provided classes\n",
      "  warnings.warn(msg)\n",
      "/root/miniconda3/envs/ml_env/lib/python3.11/site-packages/fiftyone/utils/data/exporters.py:3919: UserWarning: Ignoring detection with label 'Helmet' not in provided classes\n",
      "  warnings.warn(msg)\n",
      "/root/miniconda3/envs/ml_env/lib/python3.11/site-packages/fiftyone/utils/data/exporters.py:3919: UserWarning: Ignoring detection with label 'Rifle' not in provided classes\n",
      "  warnings.warn(msg)\n"
     ]
    },
    {
     "name": "stdout",
     "output_type": "stream",
     "text": [
      "  30% |████-----------|  298/1000 [2.8s elapsed, 6.8s remaining, 97.8 samples/s]     "
     ]
    },
    {
     "name": "stderr",
     "output_type": "stream",
     "text": [
      "/root/miniconda3/envs/ml_env/lib/python3.11/site-packages/fiftyone/utils/data/exporters.py:3919: UserWarning: Ignoring detection with label 'Wine' not in provided classes\n",
      "  warnings.warn(msg)\n",
      "/root/miniconda3/envs/ml_env/lib/python3.11/site-packages/fiftyone/utils/data/exporters.py:3919: UserWarning: Ignoring detection with label 'Bottle' not in provided classes\n",
      "  warnings.warn(msg)\n",
      "/root/miniconda3/envs/ml_env/lib/python3.11/site-packages/fiftyone/utils/data/exporters.py:3919: UserWarning: Ignoring detection with label 'Chair' not in provided classes\n",
      "  warnings.warn(msg)\n",
      "/root/miniconda3/envs/ml_env/lib/python3.11/site-packages/fiftyone/utils/data/exporters.py:3919: UserWarning: Ignoring detection with label 'Curtain' not in provided classes\n",
      "  warnings.warn(msg)\n",
      "/root/miniconda3/envs/ml_env/lib/python3.11/site-packages/fiftyone/utils/data/exporters.py:3919: UserWarning: Ignoring detection with label 'Houseplant' not in provided classes\n",
      "  warnings.warn(msg)\n",
      "/root/miniconda3/envs/ml_env/lib/python3.11/site-packages/fiftyone/utils/data/exporters.py:3919: UserWarning: Ignoring detection with label 'Flowerpot' not in provided classes\n",
      "  warnings.warn(msg)\n",
      "/root/miniconda3/envs/ml_env/lib/python3.11/site-packages/fiftyone/utils/data/exporters.py:3919: UserWarning: Ignoring detection with label 'Flower' not in provided classes\n",
      "  warnings.warn(msg)\n",
      "/root/miniconda3/envs/ml_env/lib/python3.11/site-packages/fiftyone/utils/data/exporters.py:3919: UserWarning: Ignoring detection with label 'Vegetable' not in provided classes\n",
      "  warnings.warn(msg)\n"
     ]
    },
    {
     "name": "stdout",
     "output_type": "stream",
     "text": [
      "  32% |████|----------|  322/1000 [3.0s elapsed, 6.4s remaining, 104.2 samples/s]    "
     ]
    },
    {
     "name": "stderr",
     "output_type": "stream",
     "text": [
      "/root/miniconda3/envs/ml_env/lib/python3.11/site-packages/fiftyone/utils/data/exporters.py:3919: UserWarning: Ignoring detection with label 'Ladder' not in provided classes\n",
      "  warnings.warn(msg)\n",
      "/root/miniconda3/envs/ml_env/lib/python3.11/site-packages/fiftyone/utils/data/exporters.py:3919: UserWarning: Ignoring detection with label 'Musical instrument' not in provided classes\n",
      "  warnings.warn(msg)\n",
      "/root/miniconda3/envs/ml_env/lib/python3.11/site-packages/fiftyone/utils/data/exporters.py:3919: UserWarning: Ignoring detection with label 'Tent' not in provided classes\n",
      "  warnings.warn(msg)\n",
      "/root/miniconda3/envs/ml_env/lib/python3.11/site-packages/fiftyone/utils/data/exporters.py:3919: UserWarning: Ignoring detection with label 'Harpsichord' not in provided classes\n",
      "  warnings.warn(msg)\n",
      "/root/miniconda3/envs/ml_env/lib/python3.11/site-packages/fiftyone/utils/data/exporters.py:3919: UserWarning: Ignoring detection with label 'Piano' not in provided classes\n",
      "  warnings.warn(msg)\n"
     ]
    },
    {
     "name": "stdout",
     "output_type": "stream",
     "text": [
      "  35% |█████----------|  350/1000 [3.3s elapsed, 5.9s remaining, 112.8 samples/s]    "
     ]
    },
    {
     "name": "stderr",
     "output_type": "stream",
     "text": [
      "/root/miniconda3/envs/ml_env/lib/python3.11/site-packages/fiftyone/utils/data/exporters.py:3919: UserWarning: Ignoring detection with label 'Cabinetry' not in provided classes\n",
      "  warnings.warn(msg)\n",
      "/root/miniconda3/envs/ml_env/lib/python3.11/site-packages/fiftyone/utils/data/exporters.py:3919: UserWarning: Ignoring detection with label 'Oven' not in provided classes\n",
      "  warnings.warn(msg)\n",
      "/root/miniconda3/envs/ml_env/lib/python3.11/site-packages/fiftyone/utils/data/exporters.py:3919: UserWarning: Ignoring detection with label 'Sink' not in provided classes\n",
      "  warnings.warn(msg)\n",
      "/root/miniconda3/envs/ml_env/lib/python3.11/site-packages/fiftyone/utils/data/exporters.py:3919: UserWarning: Ignoring detection with label 'Countertop' not in provided classes\n",
      "  warnings.warn(msg)\n",
      "/root/miniconda3/envs/ml_env/lib/python3.11/site-packages/fiftyone/utils/data/exporters.py:3919: UserWarning: Ignoring detection with label 'French horn' not in provided classes\n",
      "  warnings.warn(msg)\n",
      "/root/miniconda3/envs/ml_env/lib/python3.11/site-packages/fiftyone/utils/data/exporters.py:3919: UserWarning: Ignoring detection with label 'Trumpet' not in provided classes\n",
      "  warnings.warn(msg)\n",
      "/root/miniconda3/envs/ml_env/lib/python3.11/site-packages/fiftyone/utils/data/exporters.py:3919: UserWarning: Ignoring detection with label 'Sombrero' not in provided classes\n",
      "  warnings.warn(msg)\n",
      "/root/miniconda3/envs/ml_env/lib/python3.11/site-packages/fiftyone/utils/data/exporters.py:3919: UserWarning: Ignoring detection with label 'Necklace' not in provided classes\n",
      "  warnings.warn(msg)\n",
      "/root/miniconda3/envs/ml_env/lib/python3.11/site-packages/fiftyone/utils/data/exporters.py:3919: UserWarning: Ignoring detection with label 'Boot' not in provided classes\n",
      "  warnings.warn(msg)\n"
     ]
    },
    {
     "name": "stdout",
     "output_type": "stream",
     "text": [
      "  38% |█████|---------|  379/1000 [3.5s elapsed, 5.4s remaining, 126.2 samples/s]    "
     ]
    },
    {
     "name": "stderr",
     "output_type": "stream",
     "text": [
      "/root/miniconda3/envs/ml_env/lib/python3.11/site-packages/fiftyone/utils/data/exporters.py:3919: UserWarning: Ignoring detection with label 'Paddle' not in provided classes\n",
      "  warnings.warn(msg)\n",
      "/root/miniconda3/envs/ml_env/lib/python3.11/site-packages/fiftyone/utils/data/exporters.py:3919: UserWarning: Ignoring detection with label 'Sunglasses' not in provided classes\n",
      "  warnings.warn(msg)\n",
      "/root/miniconda3/envs/ml_env/lib/python3.11/site-packages/fiftyone/utils/data/exporters.py:3919: UserWarning: Ignoring detection with label 'Personal flotation device' not in provided classes\n",
      "  warnings.warn(msg)\n",
      "/root/miniconda3/envs/ml_env/lib/python3.11/site-packages/fiftyone/utils/data/exporters.py:3919: UserWarning: Ignoring detection with label 'Swimming pool' not in provided classes\n",
      "  warnings.warn(msg)\n",
      "/root/miniconda3/envs/ml_env/lib/python3.11/site-packages/fiftyone/utils/data/exporters.py:3919: UserWarning: Ignoring detection with label 'Animal' not in provided classes\n",
      "  warnings.warn(msg)\n",
      "/root/miniconda3/envs/ml_env/lib/python3.11/site-packages/fiftyone/utils/data/exporters.py:3919: UserWarning: Ignoring detection with label 'Flute' not in provided classes\n",
      "  warnings.warn(msg)\n",
      "/root/miniconda3/envs/ml_env/lib/python3.11/site-packages/fiftyone/utils/data/exporters.py:3919: UserWarning: Ignoring detection with label 'Trousers' not in provided classes\n",
      "  warnings.warn(msg)\n"
     ]
    },
    {
     "name": "stdout",
     "output_type": "stream",
     "text": [
      "  41% |██████---------|  409/1000 [3.7s elapsed, 5.1s remaining, 126.4 samples/s]    "
     ]
    },
    {
     "name": "stderr",
     "output_type": "stream",
     "text": [
      "/root/miniconda3/envs/ml_env/lib/python3.11/site-packages/fiftyone/utils/data/exporters.py:3919: UserWarning: Ignoring detection with label 'Tableware' not in provided classes\n",
      "  warnings.warn(msg)\n",
      "/root/miniconda3/envs/ml_env/lib/python3.11/site-packages/fiftyone/utils/data/exporters.py:3919: UserWarning: Ignoring detection with label 'Beer' not in provided classes\n",
      "  warnings.warn(msg)\n",
      "/root/miniconda3/envs/ml_env/lib/python3.11/site-packages/fiftyone/utils/data/exporters.py:3919: UserWarning: Ignoring detection with label 'Train' not in provided classes\n",
      "  warnings.warn(msg)\n",
      "/root/miniconda3/envs/ml_env/lib/python3.11/site-packages/fiftyone/utils/data/exporters.py:3919: UserWarning: Ignoring detection with label 'Convenience store' not in provided classes\n",
      "  warnings.warn(msg)\n",
      "/root/miniconda3/envs/ml_env/lib/python3.11/site-packages/fiftyone/utils/data/exporters.py:3919: UserWarning: Ignoring detection with label 'Bird' not in provided classes\n",
      "  warnings.warn(msg)\n"
     ]
    },
    {
     "name": "stdout",
     "output_type": "stream",
     "text": [
      "  43% |██████|--------|  433/1000 [3.9s elapsed, 4.8s remaining, 128.3 samples/s]    "
     ]
    },
    {
     "name": "stderr",
     "output_type": "stream",
     "text": [
      "/root/miniconda3/envs/ml_env/lib/python3.11/site-packages/fiftyone/utils/data/exporters.py:3919: UserWarning: Ignoring detection with label 'Weapon' not in provided classes\n",
      "  warnings.warn(msg)\n",
      "/root/miniconda3/envs/ml_env/lib/python3.11/site-packages/fiftyone/utils/data/exporters.py:3919: UserWarning: Ignoring detection with label 'Cowboy hat' not in provided classes\n",
      "  warnings.warn(msg)\n",
      "/root/miniconda3/envs/ml_env/lib/python3.11/site-packages/fiftyone/utils/data/exporters.py:3919: UserWarning: Ignoring detection with label 'Sun hat' not in provided classes\n",
      "  warnings.warn(msg)\n",
      "/root/miniconda3/envs/ml_env/lib/python3.11/site-packages/fiftyone/utils/data/exporters.py:3919: UserWarning: Ignoring detection with label 'Shorts' not in provided classes\n",
      "  warnings.warn(msg)\n",
      "/root/miniconda3/envs/ml_env/lib/python3.11/site-packages/fiftyone/utils/data/exporters.py:3919: UserWarning: Ignoring detection with label 'Bed' not in provided classes\n",
      "  warnings.warn(msg)\n",
      "/root/miniconda3/envs/ml_env/lib/python3.11/site-packages/fiftyone/utils/data/exporters.py:3919: UserWarning: Ignoring detection with label 'Snack' not in provided classes\n",
      "  warnings.warn(msg)\n",
      "/root/miniconda3/envs/ml_env/lib/python3.11/site-packages/fiftyone/utils/data/exporters.py:3919: UserWarning: Ignoring detection with label 'Fedora' not in provided classes\n",
      "  warnings.warn(msg)\n"
     ]
    },
    {
     "name": "stdout",
     "output_type": "stream",
     "text": [
      "  46% |██████---------|  456/1000 [4.1s elapsed, 4.7s remaining, 123.3 samples/s]    "
     ]
    },
    {
     "name": "stderr",
     "output_type": "stream",
     "text": [
      "/root/miniconda3/envs/ml_env/lib/python3.11/site-packages/fiftyone/utils/data/exporters.py:3919: UserWarning: Ignoring detection with label 'Rose' not in provided classes\n",
      "  warnings.warn(msg)\n",
      "/root/miniconda3/envs/ml_env/lib/python3.11/site-packages/fiftyone/utils/data/exporters.py:3919: UserWarning: Ignoring detection with label 'Wine glass' not in provided classes\n",
      "  warnings.warn(msg)\n",
      "/root/miniconda3/envs/ml_env/lib/python3.11/site-packages/fiftyone/utils/data/exporters.py:3919: UserWarning: Ignoring detection with label 'Kitchen & dining room table' not in provided classes\n",
      "  warnings.warn(msg)\n",
      "/root/miniconda3/envs/ml_env/lib/python3.11/site-packages/fiftyone/utils/data/exporters.py:3919: UserWarning: Ignoring detection with label 'Billboard' not in provided classes\n",
      "  warnings.warn(msg)\n",
      "/root/miniconda3/envs/ml_env/lib/python3.11/site-packages/fiftyone/utils/data/exporters.py:3919: UserWarning: Ignoring detection with label 'Squirrel' not in provided classes\n",
      "  warnings.warn(msg)\n",
      "/root/miniconda3/envs/ml_env/lib/python3.11/site-packages/fiftyone/utils/data/exporters.py:3919: UserWarning: Ignoring detection with label 'Tie' not in provided classes\n",
      "  warnings.warn(msg)\n",
      "/root/miniconda3/envs/ml_env/lib/python3.11/site-packages/fiftyone/utils/data/exporters.py:3919: UserWarning: Ignoring detection with label 'Fork' not in provided classes\n",
      "  warnings.warn(msg)\n"
     ]
    },
    {
     "name": "stdout",
     "output_type": "stream",
     "text": [
      "  48% |███████/-------|  484/1000 [4.5s elapsed, 4.8s remaining, 105.9 samples/s]    "
     ]
    },
    {
     "name": "stderr",
     "output_type": "stream",
     "text": [
      "/root/miniconda3/envs/ml_env/lib/python3.11/site-packages/fiftyone/utils/data/exporters.py:3919: UserWarning: Ignoring detection with label 'Roller skates' not in provided classes\n",
      "  warnings.warn(msg)\n",
      "/root/miniconda3/envs/ml_env/lib/python3.11/site-packages/fiftyone/utils/data/exporters.py:3919: UserWarning: Ignoring detection with label 'Fruit' not in provided classes\n",
      "  warnings.warn(msg)\n"
     ]
    },
    {
     "name": "stdout",
     "output_type": "stream",
     "text": [
      "  52% |███████|-------|  521/1000 [4.8s elapsed, 4.5s remaining, 102.0 samples/s]    "
     ]
    },
    {
     "name": "stderr",
     "output_type": "stream",
     "text": [
      "/root/miniconda3/envs/ml_env/lib/python3.11/site-packages/fiftyone/utils/data/exporters.py:3919: UserWarning: Ignoring detection with label 'Box' not in provided classes\n",
      "  warnings.warn(msg)\n",
      "/root/miniconda3/envs/ml_env/lib/python3.11/site-packages/fiftyone/utils/data/exporters.py:3919: UserWarning: Ignoring detection with label 'Street light' not in provided classes\n",
      "  warnings.warn(msg)\n",
      "/root/miniconda3/envs/ml_env/lib/python3.11/site-packages/fiftyone/utils/data/exporters.py:3919: UserWarning: Ignoring detection with label 'Vase' not in provided classes\n",
      "  warnings.warn(msg)\n",
      "/root/miniconda3/envs/ml_env/lib/python3.11/site-packages/fiftyone/utils/data/exporters.py:3919: UserWarning: Ignoring detection with label 'Shelf' not in provided classes\n",
      "  warnings.warn(msg)\n"
     ]
    },
    {
     "name": "stdout",
     "output_type": "stream",
     "text": [
      "  56% |████████\\------|  556/1000 [5.1s elapsed, 4.1s remaining, 105.0 samples/s]    "
     ]
    },
    {
     "name": "stderr",
     "output_type": "stream",
     "text": [
      "/root/miniconda3/envs/ml_env/lib/python3.11/site-packages/fiftyone/utils/data/exporters.py:3919: UserWarning: Ignoring detection with label 'Skirt' not in provided classes\n",
      "  warnings.warn(msg)\n",
      "/root/miniconda3/envs/ml_env/lib/python3.11/site-packages/fiftyone/utils/data/exporters.py:3919: UserWarning: Ignoring detection with label 'Tablet computer' not in provided classes\n",
      "  warnings.warn(msg)\n",
      "/root/miniconda3/envs/ml_env/lib/python3.11/site-packages/fiftyone/utils/data/exporters.py:3919: UserWarning: Ignoring detection with label 'Cattle' not in provided classes\n",
      "  warnings.warn(msg)\n"
     ]
    },
    {
     "name": "stdout",
     "output_type": "stream",
     "text": [
      "  60% |████████\\------|  595/1000 [5.5s elapsed, 3.9s remaining, 103.1 samples/s]    "
     ]
    },
    {
     "name": "stderr",
     "output_type": "stream",
     "text": [
      "/root/miniconda3/envs/ml_env/lib/python3.11/site-packages/fiftyone/utils/data/exporters.py:3919: UserWarning: Ignoring detection with label 'Human beard' not in provided classes\n",
      "  warnings.warn(msg)\n",
      "/root/miniconda3/envs/ml_env/lib/python3.11/site-packages/fiftyone/utils/data/exporters.py:3919: UserWarning: Ignoring detection with label 'Human ear' not in provided classes\n",
      "  warnings.warn(msg)\n"
     ]
    },
    {
     "name": "stdout",
     "output_type": "stream",
     "text": [
      "  63% |█████████------|  631/1000 [5.8s elapsed, 3.5s remaining, 101.8 samples/s]    "
     ]
    },
    {
     "name": "stderr",
     "output_type": "stream",
     "text": [
      "/root/miniconda3/envs/ml_env/lib/python3.11/site-packages/fiftyone/utils/data/exporters.py:3919: UserWarning: Ignoring detection with label 'Spoon' not in provided classes\n",
      "  warnings.warn(msg)\n",
      "/root/miniconda3/envs/ml_env/lib/python3.11/site-packages/fiftyone/utils/data/exporters.py:3919: UserWarning: Ignoring detection with label 'Bust' not in provided classes\n",
      "  warnings.warn(msg)\n"
     ]
    },
    {
     "name": "stdout",
     "output_type": "stream",
     "text": [
      "  67% |██████████-----|  672/1000 [6.3s elapsed, 3.3s remaining, 97.5 samples/s]     "
     ]
    },
    {
     "name": "stderr",
     "output_type": "stream",
     "text": [
      "/root/miniconda3/envs/ml_env/lib/python3.11/site-packages/fiftyone/utils/data/exporters.py:3919: UserWarning: Ignoring detection with label 'Dessert' not in provided classes\n",
      "  warnings.warn(msg)\n",
      "/root/miniconda3/envs/ml_env/lib/python3.11/site-packages/fiftyone/utils/data/exporters.py:3919: UserWarning: Ignoring detection with label 'Bow and arrow' not in provided classes\n",
      "  warnings.warn(msg)\n"
     ]
    },
    {
     "name": "stdout",
     "output_type": "stream",
     "text": [
      "  69% |██████████|----|  694/1000 [6.5s elapsed, 3.0s remaining, 100.3 samples/s]    "
     ]
    },
    {
     "name": "stderr",
     "output_type": "stream",
     "text": [
      "/root/miniconda3/envs/ml_env/lib/python3.11/site-packages/fiftyone/utils/data/exporters.py:3919: UserWarning: Ignoring detection with label 'Traffic light' not in provided classes\n",
      "  warnings.warn(msg)\n"
     ]
    },
    {
     "name": "stdout",
     "output_type": "stream",
     "text": [
      "  71% |██████████\\----|  713/1000 [6.8s elapsed, 3.2s remaining, 83.8 samples/s]     "
     ]
    },
    {
     "name": "stderr",
     "output_type": "stream",
     "text": [
      "/root/miniconda3/envs/ml_env/lib/python3.11/site-packages/fiftyone/utils/data/exporters.py:3919: UserWarning: Ignoring detection with label 'Infant bed' not in provided classes\n",
      "  warnings.warn(msg)\n",
      "/root/miniconda3/envs/ml_env/lib/python3.11/site-packages/fiftyone/utils/data/exporters.py:3919: UserWarning: Ignoring detection with label 'Treadmill' not in provided classes\n",
      "  warnings.warn(msg)\n"
     ]
    },
    {
     "name": "stdout",
     "output_type": "stream",
     "text": [
      "  73% |██████████-----|  727/1000 [7.2s elapsed, 3.9s remaining, 62.3 samples/s]     "
     ]
    },
    {
     "name": "stderr",
     "output_type": "stream",
     "text": [
      "/root/miniconda3/envs/ml_env/lib/python3.11/site-packages/fiftyone/utils/data/exporters.py:3919: UserWarning: Ignoring detection with label 'Stairs' not in provided classes\n",
      "  warnings.warn(msg)\n",
      "/root/miniconda3/envs/ml_env/lib/python3.11/site-packages/fiftyone/utils/data/exporters.py:3919: UserWarning: Ignoring detection with label 'Door' not in provided classes\n",
      "  warnings.warn(msg)\n"
     ]
    },
    {
     "name": "stdout",
     "output_type": "stream",
     "text": [
      "  78% |███████████----|  779/1000 [8.6s elapsed, 4.4s remaining, 44.0 samples/s]     "
     ]
    },
    {
     "name": "stderr",
     "output_type": "stream",
     "text": [
      "/root/miniconda3/envs/ml_env/lib/python3.11/site-packages/fiftyone/utils/data/exporters.py:3919: UserWarning: Ignoring detection with label 'Elephant' not in provided classes\n",
      "  warnings.warn(msg)\n",
      "/root/miniconda3/envs/ml_env/lib/python3.11/site-packages/fiftyone/utils/data/exporters.py:3919: UserWarning: Ignoring detection with label 'Gas stove' not in provided classes\n",
      "  warnings.warn(msg)\n",
      "/root/miniconda3/envs/ml_env/lib/python3.11/site-packages/fiftyone/utils/data/exporters.py:3919: UserWarning: Ignoring detection with label 'Kitchen appliance' not in provided classes\n",
      "  warnings.warn(msg)\n"
     ]
    },
    {
     "name": "stdout",
     "output_type": "stream",
     "text": [
      "  80% |███████████|---|  795/1000 [8.8s elapsed, 3.4s remaining, 55.5 samples/s]     "
     ]
    },
    {
     "name": "stderr",
     "output_type": "stream",
     "text": [
      "/root/miniconda3/envs/ml_env/lib/python3.11/site-packages/fiftyone/utils/data/exporters.py:3919: UserWarning: Ignoring detection with label 'Cabbage' not in provided classes\n",
      "  warnings.warn(msg)\n",
      "/root/miniconda3/envs/ml_env/lib/python3.11/site-packages/fiftyone/utils/data/exporters.py:3919: UserWarning: Ignoring detection with label 'Canoe' not in provided classes\n",
      "  warnings.warn(msg)\n"
     ]
    },
    {
     "name": "stdout",
     "output_type": "stream",
     "text": [
      "  83% |████████████|--|  827/1000 [9.2s elapsed, 2.3s remaining, 71.3 samples/s]     "
     ]
    },
    {
     "name": "stderr",
     "output_type": "stream",
     "text": [
      "/root/miniconda3/envs/ml_env/lib/python3.11/site-packages/fiftyone/utils/data/exporters.py:3919: UserWarning: Ignoring detection with label 'Pig' not in provided classes\n",
      "  warnings.warn(msg)\n",
      "/root/miniconda3/envs/ml_env/lib/python3.11/site-packages/fiftyone/utils/data/exporters.py:3919: UserWarning: Ignoring detection with label 'Diaper' not in provided classes\n",
      "  warnings.warn(msg)\n"
     ]
    },
    {
     "name": "stdout",
     "output_type": "stream",
     "text": [
      "  86% |████████████|--|  859/1000 [9.6s elapsed, 1.9s remaining, 74.4 samples/s]     "
     ]
    },
    {
     "name": "stderr",
     "output_type": "stream",
     "text": [
      "/root/miniconda3/envs/ml_env/lib/python3.11/site-packages/fiftyone/utils/data/exporters.py:3919: UserWarning: Ignoring detection with label 'Owl' not in provided classes\n",
      "  warnings.warn(msg)\n"
     ]
    },
    {
     "name": "stdout",
     "output_type": "stream",
     "text": [
      "  91% |█████████████/-|  910/1000 [10.1s elapsed, 1.0s remaining, 87.4 samples/s]    "
     ]
    },
    {
     "name": "stderr",
     "output_type": "stream",
     "text": [
      "/root/miniconda3/envs/ml_env/lib/python3.11/site-packages/fiftyone/utils/data/exporters.py:3919: UserWarning: Ignoring detection with label 'Bowl' not in provided classes\n",
      "  warnings.warn(msg)\n",
      "/root/miniconda3/envs/ml_env/lib/python3.11/site-packages/fiftyone/utils/data/exporters.py:3919: UserWarning: Ignoring detection with label 'Book' not in provided classes\n",
      "  warnings.warn(msg)\n",
      "/root/miniconda3/envs/ml_env/lib/python3.11/site-packages/fiftyone/utils/data/exporters.py:3919: UserWarning: Ignoring detection with label 'Golf cart' not in provided classes\n",
      "  warnings.warn(msg)\n",
      "/root/miniconda3/envs/ml_env/lib/python3.11/site-packages/fiftyone/utils/data/exporters.py:3919: UserWarning: Ignoring detection with label 'Vehicle registration plate' not in provided classes\n",
      "  warnings.warn(msg)\n"
     ]
    },
    {
     "name": "stdout",
     "output_type": "stream",
     "text": [
      "  93% |█████████████\\-|  928/1000 [10.4s elapsed, 808.8ms remaining, 89.0 samples/s] "
     ]
    },
    {
     "name": "stderr",
     "output_type": "stream",
     "text": [
      "/root/miniconda3/envs/ml_env/lib/python3.11/site-packages/fiftyone/utils/data/exporters.py:3919: UserWarning: Ignoring detection with label 'Bookcase' not in provided classes\n",
      "  warnings.warn(msg)\n",
      "/root/miniconda3/envs/ml_env/lib/python3.11/site-packages/fiftyone/utils/data/exporters.py:3919: UserWarning: Ignoring detection with label 'Plate' not in provided classes\n",
      "  warnings.warn(msg)\n",
      "/root/miniconda3/envs/ml_env/lib/python3.11/site-packages/fiftyone/utils/data/exporters.py:3919: UserWarning: Ignoring detection with label 'Parrot' not in provided classes\n",
      "  warnings.warn(msg)\n",
      "/root/miniconda3/envs/ml_env/lib/python3.11/site-packages/fiftyone/utils/data/exporters.py:3919: UserWarning: Ignoring detection with label 'Pumpkin' not in provided classes\n",
      "  warnings.warn(msg)\n"
     ]
    },
    {
     "name": "stdout",
     "output_type": "stream",
     "text": [
      "  95% |██████████████/|  947/1000 [10.6s elapsed, 562.6ms remaining, 94.5 samples/s] "
     ]
    },
    {
     "name": "stderr",
     "output_type": "stream",
     "text": [
      "/root/miniconda3/envs/ml_env/lib/python3.11/site-packages/fiftyone/utils/data/exporters.py:3919: UserWarning: Ignoring detection with label 'Tennis racket' not in provided classes\n",
      "  warnings.warn(msg)\n"
     ]
    },
    {
     "name": "stdout",
     "output_type": "stream",
     "text": [
      " 100% |███████████████| 1000/1000 [11.1s elapsed, 0s remaining, 99.3 samples/s]       \n",
      "Directory './data/images/test' already exists; export will be merged with existing files\n",
      "   1% |---------------|    9/1000 [791.1ms elapsed, 1.5m remaining, 11.4 samples/s] "
     ]
    },
    {
     "name": "stderr",
     "output_type": "stream",
     "text": [
      "/root/miniconda3/envs/ml_env/lib/python3.11/site-packages/fiftyone/utils/data/exporters.py:3919: UserWarning: Ignoring detection with label 'Boy' not in provided classes\n",
      "  warnings.warn(msg)\n",
      "/root/miniconda3/envs/ml_env/lib/python3.11/site-packages/fiftyone/utils/data/exporters.py:3919: UserWarning: Ignoring detection with label 'Man' not in provided classes\n",
      "  warnings.warn(msg)\n",
      "/root/miniconda3/envs/ml_env/lib/python3.11/site-packages/fiftyone/utils/data/exporters.py:3919: UserWarning: Ignoring detection with label 'Auto part' not in provided classes\n",
      "  warnings.warn(msg)\n",
      "/root/miniconda3/envs/ml_env/lib/python3.11/site-packages/fiftyone/utils/data/exporters.py:3919: UserWarning: Ignoring detection with label 'Shotgun' not in provided classes\n",
      "  warnings.warn(msg)\n",
      "/root/miniconda3/envs/ml_env/lib/python3.11/site-packages/fiftyone/utils/data/exporters.py:3919: UserWarning: Ignoring detection with label 'Volleyball (Ball)' not in provided classes\n",
      "  warnings.warn(msg)\n",
      "/root/miniconda3/envs/ml_env/lib/python3.11/site-packages/fiftyone/utils/data/exporters.py:3919: UserWarning: Ignoring detection with label 'Girl' not in provided classes\n",
      "  warnings.warn(msg)\n",
      "/root/miniconda3/envs/ml_env/lib/python3.11/site-packages/fiftyone/utils/data/exporters.py:3919: UserWarning: Ignoring detection with label 'Woman' not in provided classes\n",
      "  warnings.warn(msg)\n"
     ]
    },
    {
     "name": "stdout",
     "output_type": "stream",
     "text": [
      "   1% ||--------------|   14/1000 [1.0s elapsed, 1.2m remaining, 13.6 samples/s]    "
     ]
    },
    {
     "name": "stderr",
     "output_type": "stream",
     "text": [
      "/root/miniconda3/envs/ml_env/lib/python3.11/site-packages/fiftyone/utils/data/exporters.py:3919: UserWarning: Ignoring detection with label 'Baseball glove' not in provided classes\n",
      "  warnings.warn(msg)\n",
      "/root/miniconda3/envs/ml_env/lib/python3.11/site-packages/fiftyone/utils/data/exporters.py:3919: UserWarning: Ignoring detection with label 'Sports uniform' not in provided classes\n",
      "  warnings.warn(msg)\n"
     ]
    },
    {
     "name": "stdout",
     "output_type": "stream",
     "text": [
      "   4% |\\--------------|   37/1000 [1.4s elapsed, 35.4s remaining, 27.2 samples/s]   "
     ]
    },
    {
     "name": "stderr",
     "output_type": "stream",
     "text": [
      "/root/miniconda3/envs/ml_env/lib/python3.11/site-packages/fiftyone/utils/data/exporters.py:3919: UserWarning: Ignoring detection with label 'Fish' not in provided classes\n",
      "  warnings.warn(msg)\n",
      "/root/miniconda3/envs/ml_env/lib/python3.11/site-packages/fiftyone/utils/data/exporters.py:3919: UserWarning: Ignoring detection with label 'Brassiere' not in provided classes\n",
      "  warnings.warn(msg)\n",
      "/root/miniconda3/envs/ml_env/lib/python3.11/site-packages/fiftyone/utils/data/exporters.py:3919: UserWarning: Ignoring detection with label 'Swimwear' not in provided classes\n",
      "  warnings.warn(msg)\n",
      "/root/miniconda3/envs/ml_env/lib/python3.11/site-packages/fiftyone/utils/data/exporters.py:3919: UserWarning: Ignoring detection with label 'Human foot' not in provided classes\n",
      "  warnings.warn(msg)\n",
      "/root/miniconda3/envs/ml_env/lib/python3.11/site-packages/fiftyone/utils/data/exporters.py:3919: UserWarning: Ignoring detection with label 'Luggage and bags' not in provided classes\n",
      "  warnings.warn(msg)\n"
     ]
    },
    {
     "name": "stdout",
     "output_type": "stream",
     "text": [
      "   5% |/--------------|   54/1000 [1.6s elapsed, 27.5s remaining, 34.4 samples/s]   "
     ]
    },
    {
     "name": "stderr",
     "output_type": "stream",
     "text": [
      "/root/miniconda3/envs/ml_env/lib/python3.11/site-packages/fiftyone/utils/data/exporters.py:3919: UserWarning: Ignoring detection with label 'Wheelchair' not in provided classes\n",
      "  warnings.warn(msg)\n",
      "/root/miniconda3/envs/ml_env/lib/python3.11/site-packages/fiftyone/utils/data/exporters.py:3919: UserWarning: Ignoring detection with label 'Cosmetics' not in provided classes\n",
      "  warnings.warn(msg)\n"
     ]
    },
    {
     "name": "stdout",
     "output_type": "stream",
     "text": [
      "   8% |█\\-------------|   78/1000 [1.8s elapsed, 20.5s remaining, 69.6 samples/s]   "
     ]
    },
    {
     "name": "stderr",
     "output_type": "stream",
     "text": [
      "/root/miniconda3/envs/ml_env/lib/python3.11/site-packages/fiftyone/utils/data/exporters.py:3919: UserWarning: Ignoring detection with label 'Parachute' not in provided classes\n",
      "  warnings.warn(msg)\n",
      "/root/miniconda3/envs/ml_env/lib/python3.11/site-packages/fiftyone/utils/data/exporters.py:3919: UserWarning: Ignoring detection with label 'Panda' not in provided classes\n",
      "  warnings.warn(msg)\n",
      "/root/miniconda3/envs/ml_env/lib/python3.11/site-packages/fiftyone/utils/data/exporters.py:3919: UserWarning: Ignoring detection with label 'Segway' not in provided classes\n",
      "  warnings.warn(msg)\n",
      "/root/miniconda3/envs/ml_env/lib/python3.11/site-packages/fiftyone/utils/data/exporters.py:3919: UserWarning: Ignoring detection with label 'Racket' not in provided classes\n",
      "  warnings.warn(msg)\n"
     ]
    },
    {
     "name": "stdout",
     "output_type": "stream",
     "text": [
      "  10% |█/-------------|   95/1000 [2.0s elapsed, 18.2s remaining, 84.5 samples/s]   "
     ]
    },
    {
     "name": "stderr",
     "output_type": "stream",
     "text": [
      "/root/miniconda3/envs/ml_env/lib/python3.11/site-packages/fiftyone/utils/data/exporters.py:3919: UserWarning: Ignoring detection with label 'Home appliance' not in provided classes\n",
      "  warnings.warn(msg)\n",
      "/root/miniconda3/envs/ml_env/lib/python3.11/site-packages/fiftyone/utils/data/exporters.py:3919: UserWarning: Ignoring detection with label 'Cocktail' not in provided classes\n",
      "  warnings.warn(msg)\n",
      "/root/miniconda3/envs/ml_env/lib/python3.11/site-packages/fiftyone/utils/data/exporters.py:3919: UserWarning: Ignoring detection with label 'Cart' not in provided classes\n",
      "  warnings.warn(msg)\n",
      "/root/miniconda3/envs/ml_env/lib/python3.11/site-packages/fiftyone/utils/data/exporters.py:3919: UserWarning: Ignoring detection with label 'Lipstick' not in provided classes\n",
      "  warnings.warn(msg)\n",
      "/root/miniconda3/envs/ml_env/lib/python3.11/site-packages/fiftyone/utils/data/exporters.py:3919: UserWarning: Ignoring detection with label 'Gondola' not in provided classes\n",
      "  warnings.warn(msg)\n"
     ]
    },
    {
     "name": "stdout",
     "output_type": "stream",
     "text": [
      "  13% |█/-------------|  129/1000 [2.5s elapsed, 16.2s remaining, 81.4 samples/s]   "
     ]
    },
    {
     "name": "stderr",
     "output_type": "stream",
     "text": [
      "/root/miniconda3/envs/ml_env/lib/python3.11/site-packages/fiftyone/utils/data/exporters.py:3919: UserWarning: Ignoring detection with label 'Tortoise' not in provided classes\n",
      "  warnings.warn(msg)\n",
      "/root/miniconda3/envs/ml_env/lib/python3.11/site-packages/fiftyone/utils/data/exporters.py:3919: UserWarning: Ignoring detection with label 'Turtle' not in provided classes\n",
      "  warnings.warn(msg)\n",
      "/root/miniconda3/envs/ml_env/lib/python3.11/site-packages/fiftyone/utils/data/exporters.py:3919: UserWarning: Ignoring detection with label 'Sea turtle' not in provided classes\n",
      "  warnings.warn(msg)\n",
      "/root/miniconda3/envs/ml_env/lib/python3.11/site-packages/fiftyone/utils/data/exporters.py:3919: UserWarning: Ignoring detection with label 'Van' not in provided classes\n",
      "  warnings.warn(msg)\n",
      "/root/miniconda3/envs/ml_env/lib/python3.11/site-packages/fiftyone/utils/data/exporters.py:3919: UserWarning: Ignoring detection with label 'Bull' not in provided classes\n",
      "  warnings.warn(msg)\n"
     ]
    },
    {
     "name": "stdout",
     "output_type": "stream",
     "text": [
      "  15% |██\\------------|  147/1000 [2.7s elapsed, 15.2s remaining, 76.8 samples/s]   "
     ]
    },
    {
     "name": "stderr",
     "output_type": "stream",
     "text": [
      "/root/miniconda3/envs/ml_env/lib/python3.11/site-packages/fiftyone/utils/data/exporters.py:3919: UserWarning: Ignoring detection with label 'Medical equipment' not in provided classes\n",
      "  warnings.warn(msg)\n",
      "/root/miniconda3/envs/ml_env/lib/python3.11/site-packages/fiftyone/utils/data/exporters.py:3919: UserWarning: Ignoring detection with label 'Table tennis racket' not in provided classes\n",
      "  warnings.warn(msg)\n",
      "/root/miniconda3/envs/ml_env/lib/python3.11/site-packages/fiftyone/utils/data/exporters.py:3919: UserWarning: Ignoring detection with label 'Ambulance' not in provided classes\n",
      "  warnings.warn(msg)\n",
      "/root/miniconda3/envs/ml_env/lib/python3.11/site-packages/fiftyone/utils/data/exporters.py:3919: UserWarning: Ignoring detection with label 'Cantaloupe' not in provided classes\n",
      "  warnings.warn(msg)\n",
      "/root/miniconda3/envs/ml_env/lib/python3.11/site-packages/fiftyone/utils/data/exporters.py:3919: UserWarning: Ignoring detection with label 'Truck' not in provided classes\n",
      "  warnings.warn(msg)\n",
      "/root/miniconda3/envs/ml_env/lib/python3.11/site-packages/fiftyone/utils/data/exporters.py:3919: UserWarning: Ignoring detection with label 'Aircraft' not in provided classes\n",
      "  warnings.warn(msg)\n"
     ]
    },
    {
     "name": "stdout",
     "output_type": "stream",
     "text": [
      "  17% |██/------------|  167/1000 [2.9s elapsed, 14.1s remaining, 74.7 samples/s]   "
     ]
    },
    {
     "name": "stderr",
     "output_type": "stream",
     "text": [
      "/root/miniconda3/envs/ml_env/lib/python3.11/site-packages/fiftyone/utils/data/exporters.py:3919: UserWarning: Ignoring detection with label 'Mule' not in provided classes\n",
      "  warnings.warn(msg)\n",
      "/root/miniconda3/envs/ml_env/lib/python3.11/site-packages/fiftyone/utils/data/exporters.py:3919: UserWarning: Ignoring detection with label 'Backpack' not in provided classes\n",
      "  warnings.warn(msg)\n",
      "/root/miniconda3/envs/ml_env/lib/python3.11/site-packages/fiftyone/utils/data/exporters.py:3919: UserWarning: Ignoring detection with label 'Swim cap' not in provided classes\n",
      "  warnings.warn(msg)\n"
     ]
    },
    {
     "name": "stdout",
     "output_type": "stream",
     "text": [
      "  19% |██\\------------|  190/1000 [3.2s elapsed, 12.5s remaining, 93.5 samples/s]   "
     ]
    },
    {
     "name": "stderr",
     "output_type": "stream",
     "text": [
      "/root/miniconda3/envs/ml_env/lib/python3.11/site-packages/fiftyone/utils/data/exporters.py:3919: UserWarning: Ignoring detection with label 'Snowmobile' not in provided classes\n",
      "  warnings.warn(msg)\n",
      "/root/miniconda3/envs/ml_env/lib/python3.11/site-packages/fiftyone/utils/data/exporters.py:3919: UserWarning: Ignoring detection with label 'Waste container' not in provided classes\n",
      "  warnings.warn(msg)\n"
     ]
    },
    {
     "name": "stdout",
     "output_type": "stream",
     "text": [
      "  21% |███------------|  214/1000 [3.5s elapsed, 11.9s remaining, 88.7 samples/s]   "
     ]
    },
    {
     "name": "stderr",
     "output_type": "stream",
     "text": [
      "/root/miniconda3/envs/ml_env/lib/python3.11/site-packages/fiftyone/utils/data/exporters.py:3919: UserWarning: Ignoring detection with label 'Watercraft' not in provided classes\n",
      "  warnings.warn(msg)\n",
      "/root/miniconda3/envs/ml_env/lib/python3.11/site-packages/fiftyone/utils/data/exporters.py:3919: UserWarning: Ignoring detection with label 'Cake' not in provided classes\n",
      "  warnings.warn(msg)\n",
      "/root/miniconda3/envs/ml_env/lib/python3.11/site-packages/fiftyone/utils/data/exporters.py:3919: UserWarning: Ignoring detection with label 'Baked goods' not in provided classes\n",
      "  warnings.warn(msg)\n",
      "/root/miniconda3/envs/ml_env/lib/python3.11/site-packages/fiftyone/utils/data/exporters.py:3919: UserWarning: Ignoring detection with label 'Dairy Product' not in provided classes\n",
      "  warnings.warn(msg)\n",
      "/root/miniconda3/envs/ml_env/lib/python3.11/site-packages/fiftyone/utils/data/exporters.py:3919: UserWarning: Ignoring detection with label 'Accordion' not in provided classes\n",
      "  warnings.warn(msg)\n"
     ]
    },
    {
     "name": "stdout",
     "output_type": "stream",
     "text": [
      "  26% |███\\-----------|  265/1000 [4.0s elapsed, 10.2s remaining, 93.9 samples/s]   "
     ]
    },
    {
     "name": "stderr",
     "output_type": "stream",
     "text": [
      "/root/miniconda3/envs/ml_env/lib/python3.11/site-packages/fiftyone/utils/data/exporters.py:3919: UserWarning: Ignoring detection with label 'Marine mammal' not in provided classes\n",
      "  warnings.warn(msg)\n",
      "/root/miniconda3/envs/ml_env/lib/python3.11/site-packages/fiftyone/utils/data/exporters.py:3919: UserWarning: Ignoring detection with label 'Dolphin' not in provided classes\n",
      "  warnings.warn(msg)\n",
      "/root/miniconda3/envs/ml_env/lib/python3.11/site-packages/fiftyone/utils/data/exporters.py:3919: UserWarning: Ignoring detection with label 'Mechanical fan' not in provided classes\n",
      "  warnings.warn(msg)\n"
     ]
    },
    {
     "name": "stdout",
     "output_type": "stream",
     "text": [
      "  28% |████/----------|  278/1000 [4.2s elapsed, 10.3s remaining, 82.7 samples/s]   "
     ]
    },
    {
     "name": "stderr",
     "output_type": "stream",
     "text": [
      "/root/miniconda3/envs/ml_env/lib/python3.11/site-packages/fiftyone/utils/data/exporters.py:3919: UserWarning: Ignoring detection with label 'Doll' not in provided classes\n",
      "  warnings.warn(msg)\n",
      "/root/miniconda3/envs/ml_env/lib/python3.11/site-packages/fiftyone/utils/data/exporters.py:3919: UserWarning: Ignoring detection with label 'Suitcase' not in provided classes\n",
      "  warnings.warn(msg)\n"
     ]
    },
    {
     "name": "stdout",
     "output_type": "stream",
     "text": [
      "  31% |████|----------|  306/1000 [4.5s elapsed, 9.7s remaining, 84.2 samples/s]    "
     ]
    },
    {
     "name": "stderr",
     "output_type": "stream",
     "text": [
      "/root/miniconda3/envs/ml_env/lib/python3.11/site-packages/fiftyone/utils/data/exporters.py:3919: UserWarning: Ignoring detection with label 'Taxi' not in provided classes\n",
      "  warnings.warn(msg)\n",
      "/root/miniconda3/envs/ml_env/lib/python3.11/site-packages/fiftyone/utils/data/exporters.py:3919: UserWarning: Ignoring detection with label 'Skunk' not in provided classes\n",
      "  warnings.warn(msg)\n",
      "/root/miniconda3/envs/ml_env/lib/python3.11/site-packages/fiftyone/utils/data/exporters.py:3919: UserWarning: Ignoring detection with label 'Lantern' not in provided classes\n",
      "  warnings.warn(msg)\n",
      "/root/miniconda3/envs/ml_env/lib/python3.11/site-packages/fiftyone/utils/data/exporters.py:3919: UserWarning: Ignoring detection with label 'Saxophone' not in provided classes\n",
      "  warnings.warn(msg)\n"
     ]
    },
    {
     "name": "stdout",
     "output_type": "stream",
     "text": [
      "  33% |████-----------|  326/1000 [4.8s elapsed, 9.3s remaining, 84.1 samples/s]    "
     ]
    },
    {
     "name": "stderr",
     "output_type": "stream",
     "text": [
      "/root/miniconda3/envs/ml_env/lib/python3.11/site-packages/fiftyone/utils/data/exporters.py:3919: UserWarning: Ignoring detection with label 'Belt' not in provided classes\n",
      "  warnings.warn(msg)\n"
     ]
    },
    {
     "name": "stdout",
     "output_type": "stream",
     "text": [
      "  36% |█████/---------|  356/1000 [5.1s elapsed, 8.6s remaining, 84.9 samples/s]    "
     ]
    },
    {
     "name": "stderr",
     "output_type": "stream",
     "text": [
      "/root/miniconda3/envs/ml_env/lib/python3.11/site-packages/fiftyone/utils/data/exporters.py:3919: UserWarning: Ignoring detection with label 'Trombone' not in provided classes\n",
      "  warnings.warn(msg)\n",
      "/root/miniconda3/envs/ml_env/lib/python3.11/site-packages/fiftyone/utils/data/exporters.py:3919: UserWarning: Ignoring detection with label 'Stool' not in provided classes\n",
      "  warnings.warn(msg)\n"
     ]
    },
    {
     "name": "stdout",
     "output_type": "stream",
     "text": [
      "  42% |██████\\--------|  422/1000 [5.7s elapsed, 7.0s remaining, 100.6 samples/s]   "
     ]
    },
    {
     "name": "stderr",
     "output_type": "stream",
     "text": [
      "/root/miniconda3/envs/ml_env/lib/python3.11/site-packages/fiftyone/utils/data/exporters.py:3919: UserWarning: Ignoring detection with label 'Snowman' not in provided classes\n",
      "  warnings.warn(msg)\n",
      "/root/miniconda3/envs/ml_env/lib/python3.11/site-packages/fiftyone/utils/data/exporters.py:3919: UserWarning: Ignoring detection with label 'Bus' not in provided classes\n",
      "  warnings.warn(msg)\n",
      "/root/miniconda3/envs/ml_env/lib/python3.11/site-packages/fiftyone/utils/data/exporters.py:3919: UserWarning: Ignoring detection with label 'Eagle' not in provided classes\n",
      "  warnings.warn(msg)\n",
      "/root/miniconda3/envs/ml_env/lib/python3.11/site-packages/fiftyone/utils/data/exporters.py:3919: UserWarning: Ignoring detection with label 'Falcon' not in provided classes\n",
      "  warnings.warn(msg)\n"
     ]
    },
    {
     "name": "stdout",
     "output_type": "stream",
     "text": [
      "  45% |██████\\--------|  454/1000 [6.2s elapsed, 6.9s remaining, 88.4 samples/s]    "
     ]
    },
    {
     "name": "stderr",
     "output_type": "stream",
     "text": [
      "/root/miniconda3/envs/ml_env/lib/python3.11/site-packages/fiftyone/utils/data/exporters.py:3919: UserWarning: Ignoring detection with label 'Ice cream' not in provided classes\n",
      "  warnings.warn(msg)\n"
     ]
    },
    {
     "name": "stdout",
     "output_type": "stream",
     "text": [
      "  55% |████████-------|  551/1000 [7.3s elapsed, 5.9s remaining, 76.0 samples/s]    "
     ]
    },
    {
     "name": "stderr",
     "output_type": "stream",
     "text": [
      "/root/miniconda3/envs/ml_env/lib/python3.11/site-packages/fiftyone/utils/data/exporters.py:3919: UserWarning: Ignoring detection with label 'Chest of drawers' not in provided classes\n",
      "  warnings.warn(msg)\n",
      "/root/miniconda3/envs/ml_env/lib/python3.11/site-packages/fiftyone/utils/data/exporters.py:3919: UserWarning: Ignoring detection with label 'Closet' not in provided classes\n",
      "  warnings.warn(msg)\n",
      "/root/miniconda3/envs/ml_env/lib/python3.11/site-packages/fiftyone/utils/data/exporters.py:3919: UserWarning: Ignoring detection with label 'Drawer' not in provided classes\n",
      "  warnings.warn(msg)\n",
      "/root/miniconda3/envs/ml_env/lib/python3.11/site-packages/fiftyone/utils/data/exporters.py:3919: UserWarning: Ignoring detection with label 'Cupboard' not in provided classes\n",
      "  warnings.warn(msg)\n",
      "/root/miniconda3/envs/ml_env/lib/python3.11/site-packages/fiftyone/utils/data/exporters.py:3919: UserWarning: Ignoring detection with label 'Wardrobe' not in provided classes\n",
      "  warnings.warn(msg)\n",
      "/root/miniconda3/envs/ml_env/lib/python3.11/site-packages/fiftyone/utils/data/exporters.py:3919: UserWarning: Ignoring detection with label 'Office supplies' not in provided classes\n",
      "  warnings.warn(msg)\n"
     ]
    },
    {
     "name": "stdout",
     "output_type": "stream",
     "text": [
      "  57% |████████/------|  574/1000 [7.7s elapsed, 5.9s remaining, 71.0 samples/s]    "
     ]
    },
    {
     "name": "stderr",
     "output_type": "stream",
     "text": [
      "/root/miniconda3/envs/ml_env/lib/python3.11/site-packages/fiftyone/utils/data/exporters.py:3919: UserWarning: Ignoring detection with label 'Toilet' not in provided classes\n",
      "  warnings.warn(msg)\n",
      "/root/miniconda3/envs/ml_env/lib/python3.11/site-packages/fiftyone/utils/data/exporters.py:3919: UserWarning: Ignoring detection with label 'Balance beam' not in provided classes\n",
      "  warnings.warn(msg)\n"
     ]
    },
    {
     "name": "stdout",
     "output_type": "stream",
     "text": [
      "  60% |█████████/-----|  601/1000 [8.1s elapsed, 5.5s remaining, 71.7 samples/s]    "
     ]
    },
    {
     "name": "stderr",
     "output_type": "stream",
     "text": [
      "/root/miniconda3/envs/ml_env/lib/python3.11/site-packages/fiftyone/utils/data/exporters.py:3919: UserWarning: Ignoring detection with label 'Invertebrate' not in provided classes\n",
      "  warnings.warn(msg)\n",
      "/root/miniconda3/envs/ml_env/lib/python3.11/site-packages/fiftyone/utils/data/exporters.py:3919: UserWarning: Ignoring detection with label 'Shellfish' not in provided classes\n",
      "  warnings.warn(msg)\n"
     ]
    },
    {
     "name": "stdout",
     "output_type": "stream",
     "text": [
      "  63% |█████████|-----|  629/1000 [8.4s elapsed, 5.1s remaining, 71.6 samples/s]    "
     ]
    },
    {
     "name": "stderr",
     "output_type": "stream",
     "text": [
      "/root/miniconda3/envs/ml_env/lib/python3.11/site-packages/fiftyone/utils/data/exporters.py:3919: UserWarning: Ignoring detection with label 'High heels' not in provided classes\n",
      "  warnings.warn(msg)\n",
      "/root/miniconda3/envs/ml_env/lib/python3.11/site-packages/fiftyone/utils/data/exporters.py:3919: UserWarning: Ignoring detection with label 'Harp' not in provided classes\n",
      "  warnings.warn(msg)\n",
      "/root/miniconda3/envs/ml_env/lib/python3.11/site-packages/fiftyone/utils/data/exporters.py:3919: UserWarning: Ignoring detection with label 'Jet ski' not in provided classes\n",
      "  warnings.warn(msg)\n"
     ]
    },
    {
     "name": "stdout",
     "output_type": "stream",
     "text": [
      "  65% |█████████------|  649/1000 [8.6s elapsed, 4.6s remaining, 76.8 samples/s]    "
     ]
    },
    {
     "name": "stderr",
     "output_type": "stream",
     "text": [
      "/root/miniconda3/envs/ml_env/lib/python3.11/site-packages/fiftyone/utils/data/exporters.py:3919: UserWarning: Ignoring detection with label 'Sandal' not in provided classes\n",
      "  warnings.warn(msg)\n",
      "/root/miniconda3/envs/ml_env/lib/python3.11/site-packages/fiftyone/utils/data/exporters.py:3919: UserWarning: Ignoring detection with label 'Computer keyboard' not in provided classes\n",
      "  warnings.warn(msg)\n"
     ]
    },
    {
     "name": "stdout",
     "output_type": "stream",
     "text": [
      "  66% |█████████|-----|  665/1000 [8.8s elapsed, 4.2s remaining, 81.9 samples/s]    "
     ]
    },
    {
     "name": "stderr",
     "output_type": "stream",
     "text": [
      "/root/miniconda3/envs/ml_env/lib/python3.11/site-packages/fiftyone/utils/data/exporters.py:3919: UserWarning: Ignoring detection with label 'Horizontal bar' not in provided classes\n",
      "  warnings.warn(msg)\n",
      "/root/miniconda3/envs/ml_env/lib/python3.11/site-packages/fiftyone/utils/data/exporters.py:3919: UserWarning: Ignoring detection with label 'Guacamole' not in provided classes\n",
      "  warnings.warn(msg)\n"
     ]
    },
    {
     "name": "stdout",
     "output_type": "stream",
     "text": [
      "  70% |██████████\\----|  695/1000 [9.2s elapsed, 3.6s remaining, 88.4 samples/s]    "
     ]
    },
    {
     "name": "stderr",
     "output_type": "stream",
     "text": [
      "/root/miniconda3/envs/ml_env/lib/python3.11/site-packages/fiftyone/utils/data/exporters.py:3919: UserWarning: Ignoring detection with label 'Indoor rower' not in provided classes\n",
      "  warnings.warn(msg)\n",
      "/root/miniconda3/envs/ml_env/lib/python3.11/site-packages/fiftyone/utils/data/exporters.py:3919: UserWarning: Ignoring detection with label 'Ipod' not in provided classes\n",
      "  warnings.warn(msg)\n"
     ]
    },
    {
     "name": "stdout",
     "output_type": "stream",
     "text": [
      "  75% |███████████----|  752/1000 [9.9s elapsed, 3.1s remaining, 82.7 samples/s]    "
     ]
    },
    {
     "name": "stderr",
     "output_type": "stream",
     "text": [
      "/root/miniconda3/envs/ml_env/lib/python3.11/site-packages/fiftyone/utils/data/exporters.py:3919: UserWarning: Ignoring detection with label 'Fire hydrant' not in provided classes\n",
      "  warnings.warn(msg)\n"
     ]
    },
    {
     "name": "stdout",
     "output_type": "stream",
     "text": [
      "  77% |███████████|---|  770/1000 [10.2s elapsed, 3.1s remaining, 73.7 samples/s]   "
     ]
    },
    {
     "name": "stderr",
     "output_type": "stream",
     "text": [
      "/root/miniconda3/envs/ml_env/lib/python3.11/site-packages/fiftyone/utils/data/exporters.py:3919: UserWarning: Ignoring detection with label 'Wall clock' not in provided classes\n",
      "  warnings.warn(msg)\n",
      "/root/miniconda3/envs/ml_env/lib/python3.11/site-packages/fiftyone/utils/data/exporters.py:3919: UserWarning: Ignoring detection with label 'Watch' not in provided classes\n",
      "  warnings.warn(msg)\n",
      "/root/miniconda3/envs/ml_env/lib/python3.11/site-packages/fiftyone/utils/data/exporters.py:3919: UserWarning: Ignoring detection with label 'Clock' not in provided classes\n",
      "  warnings.warn(msg)\n",
      "/root/miniconda3/envs/ml_env/lib/python3.11/site-packages/fiftyone/utils/data/exporters.py:3919: UserWarning: Ignoring detection with label 'Porch' not in provided classes\n",
      "  warnings.warn(msg)\n"
     ]
    },
    {
     "name": "stdout",
     "output_type": "stream",
     "text": [
      "  80% |████████████/--|  805/1000 [11.2s elapsed, 3.9s remaining, 46.1 samples/s]   "
     ]
    },
    {
     "name": "stderr",
     "output_type": "stream",
     "text": [
      "/root/miniconda3/envs/ml_env/lib/python3.11/site-packages/fiftyone/utils/data/exporters.py:3919: UserWarning: Ignoring detection with label 'Bathtub' not in provided classes\n",
      "  warnings.warn(msg)\n",
      "/root/miniconda3/envs/ml_env/lib/python3.11/site-packages/fiftyone/utils/data/exporters.py:3919: UserWarning: Ignoring detection with label 'Sandwich' not in provided classes\n",
      "  warnings.warn(msg)\n",
      "/root/miniconda3/envs/ml_env/lib/python3.11/site-packages/fiftyone/utils/data/exporters.py:3919: UserWarning: Ignoring detection with label 'French fries' not in provided classes\n",
      "  warnings.warn(msg)\n",
      "/root/miniconda3/envs/ml_env/lib/python3.11/site-packages/fiftyone/utils/data/exporters.py:3919: UserWarning: Ignoring detection with label 'Scarf' not in provided classes\n",
      "  warnings.warn(msg)\n"
     ]
    },
    {
     "name": "stdout",
     "output_type": "stream",
     "text": [
      "  83% |████████████\\--|  827/1000 [11.4s elapsed, 3.2s remaining, 51.4 samples/s]   "
     ]
    },
    {
     "name": "stderr",
     "output_type": "stream",
     "text": [
      "/root/miniconda3/envs/ml_env/lib/python3.11/site-packages/fiftyone/utils/data/exporters.py:3919: UserWarning: Ignoring detection with label 'Cannon' not in provided classes\n",
      "  warnings.warn(msg)\n"
     ]
    },
    {
     "name": "stdout",
     "output_type": "stream",
     "text": [
      "  85% |████████████---|  853/1000 [11.7s elapsed, 1.8s remaining, 81.9 samples/s]   "
     ]
    },
    {
     "name": "stderr",
     "output_type": "stream",
     "text": [
      "/root/miniconda3/envs/ml_env/lib/python3.11/site-packages/fiftyone/utils/data/exporters.py:3919: UserWarning: Ignoring detection with label 'Miniskirt' not in provided classes\n",
      "  warnings.warn(msg)\n",
      "/root/miniconda3/envs/ml_env/lib/python3.11/site-packages/fiftyone/utils/data/exporters.py:3919: UserWarning: Ignoring detection with label 'Snowplow' not in provided classes\n",
      "  warnings.warn(msg)\n"
     ]
    },
    {
     "name": "stdout",
     "output_type": "stream",
     "text": [
      "                                                                                    \r"
     ]
    },
    {
     "name": "stderr",
     "output_type": "stream",
     "text": [
      "/root/miniconda3/envs/ml_env/lib/python3.11/site-packages/fiftyone/utils/data/exporters.py:3919: UserWarning: Ignoring detection with label 'Insect' not in provided classes\n",
      "  warnings.warn(msg)\n",
      "/root/miniconda3/envs/ml_env/lib/python3.11/site-packages/fiftyone/utils/data/exporters.py:3919: UserWarning: Ignoring detection with label 'Mixer' not in provided classes\n",
      "  warnings.warn(msg)\n"
     ]
    },
    {
     "name": "stdout",
     "output_type": "stream",
     "text": [
      "  92% |█████████████/-|  925/1000 [12.5s elapsed, 820.2ms remaining, 93.2 samples/s] "
     ]
    },
    {
     "name": "stderr",
     "output_type": "stream",
     "text": [
      "/root/miniconda3/envs/ml_env/lib/python3.11/site-packages/fiftyone/utils/data/exporters.py:3919: UserWarning: Ignoring detection with label 'Skateboard' not in provided classes\n",
      "  warnings.warn(msg)\n"
     ]
    },
    {
     "name": "stdout",
     "output_type": "stream",
     "text": [
      "  96% |██████████████/|  959/1000 [12.9s elapsed, 475.3ms remaining, 86.9 samples/s] "
     ]
    },
    {
     "name": "stderr",
     "output_type": "stream",
     "text": [
      "/root/miniconda3/envs/ml_env/lib/python3.11/site-packages/fiftyone/utils/data/exporters.py:3919: UserWarning: Ignoring detection with label 'Scorpion' not in provided classes\n",
      "  warnings.warn(msg)\n",
      "/root/miniconda3/envs/ml_env/lib/python3.11/site-packages/fiftyone/utils/data/exporters.py:3919: UserWarning: Ignoring detection with label 'Tin can' not in provided classes\n",
      "  warnings.warn(msg)\n",
      "/root/miniconda3/envs/ml_env/lib/python3.11/site-packages/fiftyone/utils/data/exporters.py:3919: UserWarning: Ignoring detection with label 'Stationary bicycle' not in provided classes\n",
      "  warnings.warn(msg)\n",
      "/root/miniconda3/envs/ml_env/lib/python3.11/site-packages/fiftyone/utils/data/exporters.py:3919: UserWarning: Ignoring detection with label 'Candy' not in provided classes\n",
      "  warnings.warn(msg)\n"
     ]
    },
    {
     "name": "stdout",
     "output_type": "stream",
     "text": [
      "  99% |██████████████||  988/1000 [13.2s elapsed, 145.3ms remaining, 82.7 samples/s] "
     ]
    },
    {
     "name": "stderr",
     "output_type": "stream",
     "text": [
      "/root/miniconda3/envs/ml_env/lib/python3.11/site-packages/fiftyone/utils/data/exporters.py:3919: UserWarning: Ignoring detection with label 'Brown bear' not in provided classes\n",
      "  warnings.warn(msg)\n"
     ]
    },
    {
     "name": "stdout",
     "output_type": "stream",
     "text": [
      " 100% |███████████████| 1000/1000 [13.4s elapsed, 0s remaining, 83.1 samples/s]      \n"
     ]
    }
   ],
   "source": [
    "# Exporting the downloaded datasets to the desired locations.\n",
    "# Check if the path exists\n",
    "if not os.path.isdir(\"./data/images/train/\"):\n",
    "    os.makedirs(\"./data/images/train/\", exist_ok = True)\n",
    "if not os.path.isdir(\"./data/labels/train/\"):\n",
    "    os.makedirs(\"./data/labels/train/\", exist_ok = True)\n",
    "\n",
    "# Test data\n",
    "datasetTrain.export(\n",
    "    data_path = \"./data/images/train\",\n",
    "    labels_path = \"./data/labels/train/labels.json\",\n",
    "    dataset_type = fo.types.FiftyOneImageDetectionDataset,\n",
    "    classes = dsClasses,\n",
    "    include_confidence = False\n",
    ")\n",
    "\n",
    "# Check if the path exists\n",
    "if not os.path.isdir(\"./data/images/test\"):\n",
    "    os.makedirs(\"./data/images/test\", exist_ok = True)\n",
    "if not os.path.isdir(\"./data/labels/test/\"):\n",
    "    os.makedirs(\"./data/labels/test/\", exist_ok = True)\n",
    "# Test data\n",
    "datasetTest.export(\n",
    "    data_path = \"./data/images/test\",\n",
    "    labels_path = \"./data/labels/test/labels.json\",\n",
    "    dataset_type = fo.types.FiftyOneImageDetectionDataset,\n",
    "    classes = dsClasses,\n",
    "    include_confidence = False\n",
    ")"
   ]
  },
  {
   "cell_type": "code",
   "execution_count": 12,
   "metadata": {},
   "outputs": [],
   "source": [
    "# Deserialize the json file and convert it to text files to make it compatible with YOLO-v1\n",
    "# Training dataset\n",
    "file = open(\"./data/labels/train/labels.json\")\n",
    "js = json.load(file)\n",
    "for item in js[\"labels\"]:\n",
    "    txt = \"\"\n",
    "    with open(f\"./data/labels/train/{item}.txt\", 'w') as txtFile:\n",
    "        for subItem in js[\"labels\"][item]: \n",
    "            width = subItem[\"bounding_box\"][2]\n",
    "            height = subItem[\"bounding_box\"][3]\n",
    "            centerX = subItem[\"bounding_box\"][0] + width/2\n",
    "            centerY = subItem[\"bounding_box\"][1] + height/2\n",
    "            label = subItem[\"label\"]\n",
    "            txt += f\"{label} {centerX} {centerY} {width} {height}\\n\"\n",
    "        txtFile.write(txt)\n",
    "        txtFile.close()\n",
    "    \n",
    "\n",
    "file = open(\"./data/labels/test/labels.json\")\n",
    "js = json.load(file)\n",
    "for item in js[\"labels\"]:\n",
    "    txt = \"\"\n",
    "    with open(f\"./data/labels/test/{item}.txt\", 'w') as txtFile:\n",
    "        for subItem in js[\"labels\"][item]: \n",
    "            width = subItem[\"bounding_box\"][2]\n",
    "            height = subItem[\"bounding_box\"][3]\n",
    "            centerX = subItem[\"bounding_box\"][0] + width/2\n",
    "            centerY = subItem[\"bounding_box\"][1] + height/2\n",
    "            label = subItem[\"label\"]\n",
    "            txt += f\"{label} {centerX} {centerY} {width} {height}\\n\"\n",
    "        txtFile.write(txt)\n",
    "        txtFile.close()\n",
    "    "
   ]
  },
  {
   "cell_type": "markdown",
   "metadata": {},
   "source": [
    "View the downloaded datasets. Might not work on the server-side."
   ]
  },
  {
   "cell_type": "code",
   "execution_count": null,
   "metadata": {},
   "outputs": [],
   "source": [
    "# See the samples\n",
    "aa = fo.load_dataset(\"open-images-v7-object-detection-DS-test\")\n",
    "session = fo.launch_app(aa.view())"
   ]
  },
  {
   "cell_type": "markdown",
   "metadata": {},
   "source": [
    "Process the datasets"
   ]
  },
  {
   "cell_type": "code",
   "execution_count": 17,
   "metadata": {},
   "outputs": [],
   "source": [
    "# Remove grayscale images \n",
    "\n",
    "import os\n",
    "from PIL import Image\n",
    "import numpy as np\n",
    "\n",
    "files = os.listdir(\"./data/images/test\")\n",
    "\n",
    "for file in files:\n",
    "    img = np.array(Image.open(\"./data/images/test/\"+file))\n",
    "    if img.ndim == 2:\n",
    "        print(f\"Removed image {file} and its respective label.\")\n",
    "        os.remove(\"./data/images/test/\"+file)\n",
    "        os.remove(\"./data/labels/test/\"+file.replace(\".jpg\",\".txt\"))"
   ]
  },
  {
   "cell_type": "code",
   "execution_count": 16,
   "metadata": {},
   "outputs": [],
   "source": [
    "# Remove images with four channels\n",
    "# Alternatively, you can replace the image as well.\n",
    "\n",
    "import os\n",
    "from PIL import Image\n",
    "import numpy as np\n",
    "\n",
    "files = os.listdir(\"./data/images/test\")\n",
    "\n",
    "for file in files:\n",
    "    img = np.array(Image.open(\"./data/images/test/\"+file))\n",
    "    if img.shape[2] == 4:\n",
    "        print(f\"Removed image {file} and its respective label.\")\n",
    "        os.remove(\"./data/images/test/\"+file)\n",
    "        os.remove(\"./data/labels/test/\"+file.replace(\".jpg\",\".txt\"))"
   ]
  }
 ],
 "metadata": {
  "kernelspec": {
   "display_name": "ml",
   "language": "python",
   "name": "python3"
  },
  "language_info": {
   "codemirror_mode": {
    "name": "ipython",
    "version": 3
   },
   "file_extension": ".py",
   "mimetype": "text/x-python",
   "name": "python",
   "nbconvert_exporter": "python",
   "pygments_lexer": "ipython3",
   "version": "3.11.4"
  }
 },
 "nbformat": 4,
 "nbformat_minor": 2
}
